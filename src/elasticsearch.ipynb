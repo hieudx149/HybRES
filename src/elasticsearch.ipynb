{
 "cells": [
  {
   "cell_type": "code",
   "execution_count": 2,
   "id": "126839aa",
   "metadata": {},
   "outputs": [
    {
     "data": {
      "text/plain": [
       "{'name': 'r1ck-MS-7D43',\n",
       " 'cluster_name': 'elasticsearch',\n",
       " 'cluster_uuid': 'yOetF59CRYOwkd59On-lEw',\n",
       " 'version': {'number': '8.6.2',\n",
       "  'build_flavor': 'default',\n",
       "  'build_type': 'deb',\n",
       "  'build_hash': '2d58d0f136141f03239816a4e360a8d17b6d8f29',\n",
       "  'build_date': '2023-02-13T09:35:20.314882762Z',\n",
       "  'build_snapshot': False,\n",
       "  'lucene_version': '9.4.2',\n",
       "  'minimum_wire_compatibility_version': '7.17.0',\n",
       "  'minimum_index_compatibility_version': '7.0.0'},\n",
       " 'tagline': 'You Know, for Search'}"
      ]
     },
     "execution_count": 2,
     "metadata": {},
     "output_type": "execute_result"
    }
   ],
   "source": [
    "from elasticsearch import Elasticsearch\n",
    "\n",
    "ES = Elasticsearch(\"http://localhost:9200\")\n",
    "ES.info().body"
   ]
  },
  {
   "cell_type": "code",
   "execution_count": 19,
   "id": "61ad2511",
   "metadata": {},
   "outputs": [
    {
     "name": "stdout",
     "output_type": "stream",
     "text": [
      "{\r\n",
      "  \"wiki-index\" : {\r\n",
      "    \"aliases\" : { }\r\n",
      "  }\r\n",
      "}\r\n"
     ]
    }
   ],
   "source": [
    "!curl http://localhost:9200/_aliases?pretty=true"
   ]
  },
  {
   "cell_type": "code",
   "execution_count": 20,
   "id": "d71e6444",
   "metadata": {},
   "outputs": [
    {
     "name": "stdout",
     "output_type": "stream",
     "text": [
      "{\r\n",
      "  \"acknowledged\" : true\r\n",
      "}\r\n"
     ]
    }
   ],
   "source": [
    "#!curl -X DELETE \"localhost:9200/mrc-index?pretty\"\n",
    "!curl -X DELETE \"localhost:9200/wiki-index?pretty\""
   ]
  },
  {
   "cell_type": "code",
   "execution_count": 5,
   "id": "3ecaac86",
   "metadata": {},
   "outputs": [],
   "source": [
    "import json\n",
    "import requests"
   ]
  },
  {
   "cell_type": "code",
   "execution_count": 6,
   "id": "6e8c95a7",
   "metadata": {},
   "outputs": [],
   "source": [
    "url = \"http://localhost:9200/wiki-index\"\n",
    "\n",
    "payload = json.dumps({\n",
    "        'settings': {\n",
    "            'similarity': {\n",
    "                'bm25_similarity': {\n",
    "                    'type': 'BM25',\n",
    "                    'k1': 0.5,\n",
    "                    'b': 0.5\n",
    "                }\n",
    "            }\n",
    "        },\n",
    "        'mappings': {\n",
    "            '_source': {\n",
    "                'includes': [\n",
    "                    'context',\n",
    "                    'segment_ctx'\n",
    "                ],\n",
    "                'excludes': [\n",
    "                    'bm25_text'\n",
    "                    'embedding'\n",
    "                ]\n",
    "            },\n",
    "            'properties': {\n",
    "                'context': {\n",
    "                    'type': 'object',\n",
    "                    'enabled': 'false'\n",
    "                },\n",
    "                'segment_ctx': {\n",
    "                    'type': 'object',\n",
    "                    'enabled': 'false'\n",
    "                },\n",
    "                'bm25_text': {\n",
    "                    'type': 'text',\n",
    "                    'similarity': 'bm25_similarity'\n",
    "                },\n",
    "                'embedding': {\n",
    "                    'type': 'dense_vector',\n",
    "                    'dims': 768,\n",
    "                    'index': 'true',\n",
    "                    'similarity': \"dot_product\",\n",
    "                    'index_options': {\n",
    "                        'type': 'hnsw',\n",
    "                        'm': 32,\n",
    "                        'ef_construction': 128\n",
    "                    }\n",
    "\n",
    "                }\n",
    "            }\n",
    "        }\n",
    "    })\n",
    "headers = {'Content-Type': 'application/json'}\n",
    "\n",
    "response = requests.request(\"PUT\", url, headers=headers, data=payload)"
   ]
  },
  {
   "cell_type": "code",
   "execution_count": 7,
   "id": "38b7a41b",
   "metadata": {},
   "outputs": [
    {
     "data": {
      "text/plain": [
       "'{\"acknowledged\":true,\"shards_acknowledged\":true,\"index\":\"wiki-index\"}'"
      ]
     },
     "execution_count": 7,
     "metadata": {},
     "output_type": "execute_result"
    }
   ],
   "source": [
    "response.text"
   ]
  },
  {
   "cell_type": "code",
   "execution_count": 8,
   "id": "54b234e4",
   "metadata": {},
   "outputs": [],
   "source": [
    "with open(\"corpus_wiki.json\") as f:\n",
    "    add_docs = json.load(f)"
   ]
  },
  {
   "cell_type": "code",
   "execution_count": 14,
   "id": "aad13f3d",
   "metadata": {},
   "outputs": [
    {
     "data": {
      "text/plain": [
       "{'title': 'Vinylon',\n",
       " 'text': 'Vinylon City Trong giai đoạn đầu của lịch sử Bắc Triều Tiên chính phủ dưới thời Kim Il Sung và ý thức hệ juche tự lực chính thức đã thúc đẩy ý tưởng rằng cách duy nhất để đạt được mục tiêu độc lập kinh tế là thông qua ngành công nghiệp nặng Do đó việc sản xuất vinylon được thực hiện như một bước tiến để phát triển Bắc Triều Tiên là một quốc gia công nghiệp hiện đại Với sự hấp dẫn như vậy đối với chủ nghĩa dân tộc chính phủ Bắc Triều Tiên đã huy động các công dân của mình để xây dựng và hỗ trợ một nhà máy vinylon mới được gọi là Vinylon City'}"
      ]
     },
     "execution_count": 14,
     "metadata": {},
     "output_type": "execute_result"
    }
   ],
   "source": [
    "add_docs[0]"
   ]
  },
  {
   "cell_type": "code",
   "execution_count": 9,
   "id": "ba743ada",
   "metadata": {},
   "outputs": [
    {
     "name": "stdout",
     "output_type": "stream",
     "text": [
      "/home/r1ck/VNPT/HybRES/src/vncorenlp\n",
      "2023-03-21 09:49:53 INFO  WordSegmenter:24 - Loading Word Segmentation model\n"
     ]
    }
   ],
   "source": [
    "from tqdm import tqdm\n",
    "from utils import word_segment, bm25_tokenizer\n",
    "from sentence_transformers import SentenceTransformer"
   ]
  },
  {
   "cell_type": "code",
   "execution_count": 10,
   "id": "1919b9dc",
   "metadata": {},
   "outputs": [
    {
     "name": "stdout",
     "output_type": "stream",
     "text": [
      "/home/r1ck/VNPT/HybRES/src\n"
     ]
    }
   ],
   "source": [
    "%cd .."
   ]
  },
  {
   "cell_type": "code",
   "execution_count": 11,
   "id": "74286e1f",
   "metadata": {},
   "outputs": [],
   "source": [
    "MODEL_PATH = \"checkpoint-2022-06-28_04-25-02\"\n",
    "ENCODER = SentenceTransformer(MODEL_PATH, device=\"cuda\")"
   ]
  },
  {
   "cell_type": "code",
   "execution_count": 12,
   "id": "17463458",
   "metadata": {},
   "outputs": [],
   "source": [
    "from elasticsearch import helpers"
   ]
  },
  {
   "cell_type": "code",
   "execution_count": 17,
   "id": "1265b947",
   "metadata": {},
   "outputs": [
    {
     "name": "stderr",
     "output_type": "stream",
     "text": [
      "\r",
      "  0%|                                                 | 0/10000 [00:00<?, ?it/s]"
     ]
    },
    {
     "name": "stdout",
     "output_type": "stream",
     "text": [
      "#> Encode corpus...!\n"
     ]
    },
    {
     "data": {
      "application/vnd.jupyter.widget-view+json": {
       "model_id": "76dd184c1d174a94aa460ec67d4e5543",
       "version_major": 2,
       "version_minor": 0
      },
      "text/plain": [
       "Batches:   0%|          | 0/63 [00:00<?, ?it/s]"
      ]
     },
     "metadata": {},
     "output_type": "display_data"
    },
    {
     "name": "stdout",
     "output_type": "stream",
     "text": [
      "#> Add docs to index...!\n"
     ]
    },
    {
     "name": "stderr",
     "output_type": "stream",
     "text": [
      "\r",
      " 20%|███████▍                             | 2000/10000 [00:18<01:12, 110.42it/s]"
     ]
    },
    {
     "name": "stdout",
     "output_type": "stream",
     "text": [
      "#> Encode corpus...!\n"
     ]
    },
    {
     "data": {
      "application/vnd.jupyter.widget-view+json": {
       "model_id": "5b4ff68bf12c43c9ada7a728a407cc26",
       "version_major": 2,
       "version_minor": 0
      },
      "text/plain": [
       "Batches:   0%|          | 0/63 [00:00<?, ?it/s]"
      ]
     },
     "metadata": {},
     "output_type": "display_data"
    },
    {
     "name": "stderr",
     "output_type": "stream",
     "text": [
      "\r",
      " 20%|███████▍                             | 2000/10000 [00:31<01:12, 110.42it/s]"
     ]
    },
    {
     "name": "stdout",
     "output_type": "stream",
     "text": [
      "#> Add docs to index...!\n"
     ]
    },
    {
     "name": "stderr",
     "output_type": "stream",
     "text": [
      "\r",
      " 40%|██████████████▊                      | 4000/10000 [00:36<00:54, 109.71it/s]"
     ]
    },
    {
     "name": "stdout",
     "output_type": "stream",
     "text": [
      "#> Encode corpus...!\n"
     ]
    },
    {
     "data": {
      "application/vnd.jupyter.widget-view+json": {
       "model_id": "37340dae743a4970af858c7499432951",
       "version_major": 2,
       "version_minor": 0
      },
      "text/plain": [
       "Batches:   0%|          | 0/63 [00:00<?, ?it/s]"
      ]
     },
     "metadata": {},
     "output_type": "display_data"
    },
    {
     "name": "stderr",
     "output_type": "stream",
     "text": [
      "\r",
      " 40%|██████████████▊                      | 4000/10000 [00:51<00:54, 109.71it/s]"
     ]
    },
    {
     "name": "stdout",
     "output_type": "stream",
     "text": [
      "#> Add docs to index...!\n"
     ]
    },
    {
     "name": "stderr",
     "output_type": "stream",
     "text": [
      "\r",
      " 60%|██████████████████████▏              | 6000/10000 [00:54<00:36, 108.94it/s]"
     ]
    },
    {
     "name": "stdout",
     "output_type": "stream",
     "text": [
      "#> Encode corpus...!\n"
     ]
    },
    {
     "data": {
      "application/vnd.jupyter.widget-view+json": {
       "model_id": "5932b411377d42c1a46d03b457c6f3d6",
       "version_major": 2,
       "version_minor": 0
      },
      "text/plain": [
       "Batches:   0%|          | 0/63 [00:00<?, ?it/s]"
      ]
     },
     "metadata": {},
     "output_type": "display_data"
    },
    {
     "name": "stdout",
     "output_type": "stream",
     "text": [
      "#> Add docs to index...!\n"
     ]
    },
    {
     "name": "stderr",
     "output_type": "stream",
     "text": [
      " 80%|█████████████████████████████▌       | 8000/10000 [01:13<00:18, 108.88it/s]"
     ]
    },
    {
     "name": "stdout",
     "output_type": "stream",
     "text": [
      "#> Encode corpus...!\n"
     ]
    },
    {
     "data": {
      "application/vnd.jupyter.widget-view+json": {
       "model_id": "f13012a86ea44c1a844d3667732930ba",
       "version_major": 2,
       "version_minor": 0
      },
      "text/plain": [
       "Batches:   0%|          | 0/63 [00:00<?, ?it/s]"
      ]
     },
     "metadata": {},
     "output_type": "display_data"
    },
    {
     "name": "stdout",
     "output_type": "stream",
     "text": [
      "#> Add docs to index...!\n"
     ]
    },
    {
     "name": "stderr",
     "output_type": "stream",
     "text": [
      "100%|████████████████████████████████████| 10000/10000 [01:32<00:00, 107.76it/s]\n"
     ]
    }
   ],
   "source": [
    "chunk_size = 2000\n",
    "add_docs = add_docs[:10000]\n",
    "with tqdm(total=len(add_docs)) as pbar:\n",
    "    idx = 0\n",
    "    for start_idx in range(0, len(add_docs), chunk_size):\n",
    "        end_idx = start_idx + chunk_size\n",
    "        sub_docs = add_docs[start_idx:end_idx]\n",
    "        segment_docs = []\n",
    "        bm25_docs = []\n",
    "        # process input text to bm25 and model format\n",
    "        for doc in sub_docs:\n",
    "            title = word_segment(doc[\"title\"])\n",
    "            content = word_segment(doc[\"text\"])\n",
    "            segment_docs.append({\"passage_title\": title, \"passage_content\": content})\n",
    "            bm25_docs.append(bm25_tokenizer(title + \" \" + content))\n",
    "        # encode doc to embedding\n",
    "        print(\"#> Encode corpus...!\")\n",
    "        encode_docs = [doc[\"passage_title\"] + \" . \" + doc[\"passage_content\"] for doc in segment_docs]\n",
    "        embeddings = ENCODER.encode(encode_docs, convert_to_numpy=True,\n",
    "                                    normalize_embeddings=True, show_progress_bar=True)\n",
    "        # add all features to index\n",
    "        print(\"#> Add docs to index...!\")\n",
    "        bulk_data = []\n",
    "        for doc, doc_segment, bm25_doc, embedding in zip(sub_docs, segment_docs, bm25_docs, embeddings):\n",
    "            bulk_data.append({\n",
    "                '_id': idx,\n",
    "                'context': doc,\n",
    "                'segment_ctx': doc_segment,\n",
    "                'bm25_text': bm25_doc,\n",
    "                'embedding': embedding\n",
    "            })\n",
    "            idx += 1\n",
    "        helpers.bulk(ES, bulk_data, index=\"wiki-index\")\n",
    "        pbar.update(chunk_size)"
   ]
  },
  {
   "cell_type": "code",
   "execution_count": 18,
   "id": "0a61d628",
   "metadata": {},
   "outputs": [
    {
     "data": {
      "text/plain": [
       "ObjectApiResponse({'_shards': {'total': 2, 'successful': 1, 'failed': 0}})"
      ]
     },
     "execution_count": 18,
     "metadata": {},
     "output_type": "execute_result"
    }
   ],
   "source": [
    "ES.indices.refresh(index=\"wiki-index\")"
   ]
  },
  {
   "cell_type": "code",
   "execution_count": 25,
   "id": "8d5f0745",
   "metadata": {},
   "outputs": [
    {
     "data": {
      "text/plain": [
       "{'title': 'Vinylon',\n",
       " 'text': 'Vinylon City Trong giai đoạn đầu của lịch sử Bắc Triều Tiên chính phủ dưới thời Kim Il Sung và ý thức hệ juche tự lực chính thức đã thúc đẩy ý tưởng rằng cách duy nhất để đạt được mục tiêu độc lập kinh tế là thông qua ngành công nghiệp nặng Do đó việc sản xuất vinylon được thực hiện như một bước tiến để phát triển Bắc Triều Tiên là một quốc gia công nghiệp hiện đại Với sự hấp dẫn như vậy đối với chủ nghĩa dân tộc chính phủ Bắc Triều Tiên đã huy động các công dân của mình để xây dựng và hỗ trợ một nhà máy vinylon mới được gọi là Vinylon City'}"
      ]
     },
     "execution_count": 25,
     "metadata": {},
     "output_type": "execute_result"
    }
   ],
   "source": [
    "add_docs[0]"
   ]
  },
  {
   "cell_type": "code",
   "execution_count": 18,
   "id": "ae83c022",
   "metadata": {},
   "outputs": [],
   "source": [
    "query = \"ISOC là tổ chức gì\""
   ]
  },
  {
   "cell_type": "code",
   "execution_count": 20,
   "id": "a35ff4b5",
   "metadata": {},
   "outputs": [],
   "source": [
    "question = word_segment(query)\n",
    "top_k = 50\n",
    "index = \"wiki-index\"\n",
    "question_embedding = ENCODER.encode(query, show_progress_bar=False, normalize_embeddings=True)\n",
    "lex_search = ES.search(index=index, size=top_k, query={\"match\": {\"bm25_text\": bm25_tokenizer(question)}}, source=False)\n",
    "sparse_result = {hit[\"_id\"]: hit[\"_score\"] for hit in lex_search[\"hits\"][\"hits\"]}\n",
    "sem_search = ES.search(index=index, size=top_k, knn={\"field\": \"embedding\", \"query_vector\": question_embedding, \"k\": top_k, \"num_candidates\": 256}, source=False)\n",
    "dense_result = {hit[\"_id\"]: hit[\"_score\"] for hit in sem_search[\"hits\"][\"hits\"]}"
   ]
  },
  {
   "cell_type": "code",
   "execution_count": 21,
   "id": "0de12940",
   "metadata": {},
   "outputs": [
    {
     "data": {
      "text/plain": [
       "ObjectApiResponse({'took': 448, 'timed_out': False, '_shards': {'total': 1, 'successful': 1, 'skipped': 0, 'failed': 0}, 'hits': {'total': {'value': 50, 'relation': 'eq'}, 'max_score': 0.8312477, 'hits': [{'_index': 'wiki-index', '_id': '26576', '_score': 0.8312477}, {'_index': 'wiki-index', '_id': '1045', '_score': 0.75957215}, {'_index': 'wiki-index', '_id': '34133', '_score': 0.7433088}, {'_index': 'wiki-index', '_id': '41826', '_score': 0.7372289}, {'_index': 'wiki-index', '_id': '46560', '_score': 0.7371785}, {'_index': 'wiki-index', '_id': '38066', '_score': 0.7346137}, {'_index': 'wiki-index', '_id': '31922', '_score': 0.7322619}, {'_index': 'wiki-index', '_id': '29886', '_score': 0.724103}, {'_index': 'wiki-index', '_id': '24350', '_score': 0.72298753}, {'_index': 'wiki-index', '_id': '35316', '_score': 0.7224528}, {'_index': 'wiki-index', '_id': '45653', '_score': 0.7212582}, {'_index': 'wiki-index', '_id': '19253', '_score': 0.7211274}, {'_index': 'wiki-index', '_id': '4291', '_score': 0.7137474}, {'_index': 'wiki-index', '_id': '33221', '_score': 0.70762146}, {'_index': 'wiki-index', '_id': '16705', '_score': 0.70651203}, {'_index': 'wiki-index', '_id': '24245', '_score': 0.70586663}, {'_index': 'wiki-index', '_id': '2356', '_score': 0.7049575}, {'_index': 'wiki-index', '_id': '36569', '_score': 0.702863}, {'_index': 'wiki-index', '_id': '37472', '_score': 0.7013554}, {'_index': 'wiki-index', '_id': '45752', '_score': 0.6987212}, {'_index': 'wiki-index', '_id': '25814', '_score': 0.6985919}, {'_index': 'wiki-index', '_id': '25618', '_score': 0.69838035}, {'_index': 'wiki-index', '_id': '6866', '_score': 0.69692475}, {'_index': 'wiki-index', '_id': '27194', '_score': 0.6956409}, {'_index': 'wiki-index', '_id': '2908', '_score': 0.6938345}, {'_index': 'wiki-index', '_id': '31350', '_score': 0.69362307}, {'_index': 'wiki-index', '_id': '38547', '_score': 0.69267803}, {'_index': 'wiki-index', '_id': '26208', '_score': 0.69218326}, {'_index': 'wiki-index', '_id': '31293', '_score': 0.6917891}, {'_index': 'wiki-index', '_id': '9197', '_score': 0.6913279}, {'_index': 'wiki-index', '_id': '42936', '_score': 0.6912779}, {'_index': 'wiki-index', '_id': '18600', '_score': 0.69083893}, {'_index': 'wiki-index', '_id': '2599', '_score': 0.68967044}, {'_index': 'wiki-index', '_id': '13108', '_score': 0.6887704}, {'_index': 'wiki-index', '_id': '21409', '_score': 0.6886778}, {'_index': 'wiki-index', '_id': '36050', '_score': 0.68840647}, {'_index': 'wiki-index', '_id': '46667', '_score': 0.68836486}, {'_index': 'wiki-index', '_id': '2890', '_score': 0.6882088}, {'_index': 'wiki-index', '_id': '38828', '_score': 0.6874601}, {'_index': 'wiki-index', '_id': '43285', '_score': 0.68660986}, {'_index': 'wiki-index', '_id': '7960', '_score': 0.6863664}, {'_index': 'wiki-index', '_id': '32973', '_score': 0.6856622}, {'_index': 'wiki-index', '_id': '28925', '_score': 0.68436635}, {'_index': 'wiki-index', '_id': '41567', '_score': 0.68399394}, {'_index': 'wiki-index', '_id': '18837', '_score': 0.6839909}, {'_index': 'wiki-index', '_id': '7655', '_score': 0.68347025}, {'_index': 'wiki-index', '_id': '36054', '_score': 0.6830933}, {'_index': 'wiki-index', '_id': '49878', '_score': 0.68257535}, {'_index': 'wiki-index', '_id': '7169', '_score': 0.6818909}, {'_index': 'wiki-index', '_id': '25081', '_score': 0.68184435}]}})"
      ]
     },
     "execution_count": 21,
     "metadata": {},
     "output_type": "execute_result"
    }
   ],
   "source": [
    "sem_search"
   ]
  },
  {
   "cell_type": "code",
   "execution_count": null,
   "id": "62c78984",
   "metadata": {},
   "outputs": [],
   "source": []
  }
 ],
 "metadata": {
  "kernelspec": {
   "display_name": "Python 3 (ipykernel)",
   "language": "python",
   "name": "python3"
  },
  "language_info": {
   "codemirror_mode": {
    "name": "ipython",
    "version": 3
   },
   "file_extension": ".py",
   "mimetype": "text/x-python",
   "name": "python",
   "nbconvert_exporter": "python",
   "pygments_lexer": "ipython3",
   "version": "3.8.13"
  }
 },
 "nbformat": 4,
 "nbformat_minor": 5
}
